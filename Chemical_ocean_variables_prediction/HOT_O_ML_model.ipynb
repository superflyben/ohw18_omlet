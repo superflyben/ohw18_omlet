{
 "cells": [
  {
   "cell_type": "code",
   "execution_count": 17,
   "metadata": {},
   "outputs": [
    {
     "data": {
      "text/plain": [
       "(13540, 18)"
      ]
     },
     "execution_count": 17,
     "metadata": {},
     "output_type": "execute_result"
    }
   ],
   "source": [
    "import warnings\n",
    "warnings.filterwarnings('ignore')\n",
    "import glob\n",
    "import pandas as pd\n",
    "import numpy as np\n",
    "%matplotlib inline  \n",
    "import matplotlib.pyplot as plt\n",
    "import seaborn as sns\n",
    "sns.set(style=\"darkgrid\")\n",
    "\n",
    "# For Oxygen\n",
    "#select_target = ['OXYGEN', 'OXYGEN_FLAG_W']\n",
    "#fig_names = 'HOT_O_SVR_CV'\n",
    "#model_names = 'O'\n",
    "# For Slicate\n",
    "#select_target = ['SILCAT', 'SILCAT_FLAG_W']\n",
    "#fig_names = 'HOT_S_SVR_CV'\n",
    "#model_names = 'S'\n",
    "# For PHSPHT\n",
    "select_target = ['PHSPHT', 'PHSPHT_FLAG_W']\n",
    "fig_names = 'HOT_P_SVR_CV'\n",
    "model_names = 'P'\n",
    "\n",
    "# Read data from HOT\n",
    "file_list = glob.glob('/home/jovyan/Ocean_ML/HOT/hot_rosette/*.csv')\n",
    "fields = ['STNNBR', 'DATE', 'TIME', 'LATITUDE', 'LONGITUDE', 'CTDPRS', 'CTDTMP', 'CTDSAL', 'CTDOXY', 'CTDSAL_FLAG_W',\n",
    "         'OXYGEN', 'OXYGEN_FLAG_W', 'SILCAT', 'SILCAT_FLAG_W', 'PHSPHT', 'PHSPHT_FLAG_W', 'NO2+NO3', 'NO2+NO3_FLAG_W']\n",
    "\n",
    "df = pd.DataFrame(columns=fields)\n",
    "\n",
    "for x in file_list:\n",
    "    fil_name = x\n",
    "    a = pd.read_csv(fil_name, skiprows=[0], comment='#')\n",
    "    a = a[a.STNNBR==2]\n",
    "    a = a[a.CTDSAL_FLAG_W==2 ]\n",
    "    a = a[a[select_target[1]]==2]\n",
    "    a = a[fields]\n",
    "    #print(a.shape)\n",
    "    df=df.append(a, ignore_index=True)\n",
    "df.shape"
   ]
  },
  {
   "cell_type": "code",
   "execution_count": 18,
   "metadata": {},
   "outputs": [
    {
     "name": "stdout",
     "output_type": "stream",
     "text": [
      "CTDPRS\n",
      "count    13540.000000\n",
      "mean      1203.222880\n",
      "std       1391.431324\n",
      "min          1.200000\n",
      "25%        189.425000\n",
      "50%        600.500000\n",
      "75%       1800.100000\n",
      "max       4813.800000\n",
      "Name: CTDPRS, dtype: float64\n",
      "CTDTMP\n",
      "count    13540.000000\n",
      "mean        10.073070\n",
      "std          8.593655\n",
      "min          1.440000\n",
      "25%          2.392975\n",
      "50%          5.868900\n",
      "75%         19.226775\n",
      "max         27.358000\n",
      "Name: CTDTMP, dtype: float64\n",
      "CTDSAL\n",
      "count    13540.000000\n",
      "mean        34.631143\n",
      "std          0.370051\n",
      "min         34.009100\n",
      "25%         34.342925\n",
      "50%         34.644050\n",
      "75%         34.899925\n",
      "max         35.546300\n",
      "Name: CTDSAL, dtype: float64\n",
      "PHSPHT\n",
      "count    13540.000000\n",
      "mean         1.728013\n",
      "std          1.207106\n",
      "min          0.000000\n",
      "25%          0.220000\n",
      "50%          2.470000\n",
      "75%          2.810000\n",
      "max          3.130000\n",
      "Name: PHSPHT, dtype: float64\n"
     ]
    }
   ],
   "source": [
    "# Quality control for nutrients vales (should not be < 0)\n",
    "# nutrient_fields = ['CTDOXY', 'OXYGEN', 'SILCAT', 'PHSPHT', 'NO2+NO3']\n",
    "nutrient_fields = ['CTDPRS', 'CTDTMP', 'CTDSAL', select_target[0]]\n",
    "for x in nutrient_fields:\n",
    "    print(x)\n",
    "    print(df[x].astype(float).describe())"
   ]
  },
  {
   "cell_type": "code",
   "execution_count": 19,
   "metadata": {},
   "outputs": [],
   "source": [
    "df[select_target[0]][df[select_target[0]].astype(float)<0] = 0"
   ]
  },
  {
   "cell_type": "markdown",
   "metadata": {},
   "source": [
    "Follow the [sklearn instruction](http://scikit-learn.org/stable/tutorial/machine_learning_map/index.html)"
   ]
  },
  {
   "cell_type": "code",
   "execution_count": 20,
   "metadata": {},
   "outputs": [],
   "source": [
    "from sklearn.linear_model import Ridge, LinearRegression\n",
    "from sklearn.svm import SVR\n",
    "from sklearn.pipeline import Pipeline\n",
    "from sklearn.model_selection import GridSearchCV\n",
    "from sklearn.model_selection import train_test_split\n",
    "from sklearn.preprocessing import StandardScaler\n",
    "from sklearn.metrics import mean_squared_error\n",
    "\n",
    "input_var = ['CTDPRS', 'CTDTMP', 'CTDSAL']\n",
    "output_var = [select_target[0]]\n",
    "X_input = df[input_var]\n",
    "y_output = df[output_var]\n",
    "\n",
    "# Split the dataset in two equal parts\n",
    "X_train, X_test, y_train, y_test = train_test_split(X_input, y_output, test_size=0.3, random_state=2018)\n",
    "\n",
    "# Stardarlized the data\n",
    "scaler = StandardScaler()\n",
    "X_train = scaler.fit_transform(X_train)\n",
    "X_test = scaler.transform(X_test)"
   ]
  },
  {
   "cell_type": "code",
   "execution_count": 21,
   "metadata": {},
   "outputs": [
    {
     "data": {
      "text/plain": [
       "'\\ndict_model = {\\n    \\'Linear Regression\\': LinearRegression(),\\n    \"Ridge Regression\": Ridge(),\\n    \"Linear SVR\": SVR(),\\n}\\n\\ndict_score={}\\nfor model_name, model in dict_model.items():\\n    model.fit(X_train, y_train)\\n    # Test the model\\n    y_true, y_pred = y_test, model.predict(X_test)\\n    dict_score[model_name] = mean_squared_error(y_true, y_pred)\\nprint(dict_score)\\n# plot observation vs prediction\\ndict_result = {\\'observation\\': y_true.values.astype(float).flatten(), \\'prediction\\': np.array(y_pred)}\\ndf_result = pd.DataFrame(dict_result)\\nsns.relplot(x=\"observation\", y=\"prediction\", data=df_result);\\n'"
      ]
     },
     "execution_count": 21,
     "metadata": {},
     "output_type": "execute_result"
    }
   ],
   "source": [
    "# Run several models with default settings and see which one is the best.\n",
    "'''\n",
    "dict_model = {\n",
    "    'Linear Regression': LinearRegression(),\n",
    "    \"Ridge Regression\": Ridge(),\n",
    "    \"Linear SVR\": SVR(),\n",
    "}\n",
    "\n",
    "dict_score={}\n",
    "for model_name, model in dict_model.items():\n",
    "    model.fit(X_train, y_train)\n",
    "    # Test the model\n",
    "    y_true, y_pred = y_test, model.predict(X_test)\n",
    "    dict_score[model_name] = mean_squared_error(y_true, y_pred)\n",
    "print(dict_score)\n",
    "# plot observation vs prediction\n",
    "dict_result = {'observation': y_true.values.astype(float).flatten(), 'prediction': np.array(y_pred)}\n",
    "df_result = pd.DataFrame(dict_result)\n",
    "sns.relplot(x=\"observation\", y=\"prediction\", data=df_result);\n",
    "'''"
   ]
  },
  {
   "cell_type": "code",
   "execution_count": 22,
   "metadata": {},
   "outputs": [
    {
     "name": "stdout",
     "output_type": "stream",
     "text": [
      "0.004061747103098032\n"
     ]
    },
    {
     "data": {
      "image/png": "[encoded data removed]",
      "text/plain": [
       "<Figure size 360x360 with 1 Axes>"
      ]
     },
     "metadata": {},
     "output_type": "display_data"
    }
   ],
   "source": [
    "svr = SVR()\n",
    "    \n",
    "pipe = Pipeline(steps=[('svr', svr)])\n",
    "Cs = np.arange(0.01, 3, 0.5)\n",
    "kernels = [ 'poly', 'rbf', 'sigmoid']\n",
    "\n",
    "# Parameters of pipelines can be set using ‘__’ separated parameter names:\n",
    "estimator = GridSearchCV(pipe,\n",
    "                         dict(svr__C=Cs, svr__kernel=kernels))\n",
    "estimator.fit(X_train, y_train)\n",
    "y_true, y_pred = y_test, estimator.predict(X_test)\n",
    "print(mean_squared_error(y_true, y_pred))\n",
    "\n",
    "# plot observation vs prediction\n",
    "dict_result = {'observation': y_true.values.astype(float).flatten(), 'prediction': np.array(y_pred)}\n",
    "df_result = pd.DataFrame(dict_result)\n",
    "splot = sns.relplot(x=\"observation\", y=\"prediction\", data=df_result);\n",
    "splot.savefig(fig_names+'.png')"
   ]
  },
  {
   "cell_type": "code",
   "execution_count": 23,
   "metadata": {},
   "outputs": [
    {
     "data": {
      "text/plain": [
       "['model_P.pkl']"
      ]
     },
     "execution_count": 23,
     "metadata": {},
     "output_type": "execute_result"
    }
   ],
   "source": [
    "from sklearn.externals import joblib\n",
    "\n",
    "\n",
    "# Save the scaler function\n",
    "joblib.dump(scaler, 'scaler_'+model_names+'.pkl')\n",
    "# Save the best model\n",
    "joblib.dump(estimator, 'model_'+model_names+'.pkl') \n",
    "# load model\n",
    "#estimator = joblib.load('model_N.pkl') \n",
    "# load model\n",
    "#estimator = joblib.load('model_N.pkl') "
   ]
  },
  {
   "cell_type": "code",
   "execution_count": 24,
   "metadata": {},
   "outputs": [
    {
     "data": {
      "text/plain": [
       "'P'"
      ]
     },
     "execution_count": 24,
     "metadata": {},
     "output_type": "execute_result"
    }
   ],
   "source": [
    "model_names"
   ]
  }
 ],
 "metadata": {
  "kernelspec": {
   "display_name": "Python [conda root]",
   "language": "python",
   "name": "conda-root-py"
  },
  "language_info": {
   "codemirror_mode": {
    "name": "ipython",
    "version": 3
   },
   "file_extension": ".py",
   "mimetype": "text/x-python",
   "name": "python",
   "nbconvert_exporter": "python",
   "pygments_lexer": "ipython3",
   "version": "3.6.6"
  }
 },
 "nbformat": 4,
 "nbformat_minor": 2
}
