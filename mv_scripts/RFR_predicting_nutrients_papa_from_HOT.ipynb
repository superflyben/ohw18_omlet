{
 "cells": [
  {
   "cell_type": "code",
   "execution_count": 3,
   "metadata": {
    "collapsed": false
   },
   "outputs": [],
   "source": [
    "import os\n",
    "import sys\n",
    "import csv\n",
    "import numpy as np\n",
    "from sklearn import svm\n",
    "#from sklearn.metrics import confusion_matrix as cmat\n",
    "import collections\n",
    "import itertools\n",
    "from sklearn.ensemble import RandomForestRegressor\n",
    "from sklearn.multioutput import MultiOutputRegressor\n",
    "#from sklearn.metrics import classification_report as report  \n",
    "from sklearn.model_selection import *\n",
    "from sklearn.feature_selection import *\n",
    "from sklearn.metrics import *\n",
    "import matplotlib.pyplot as plt\n",
    "import time\n",
    "import random\n",
    "import numpy\n",
    "from datetime import datetime\n",
    "import pandas as pd\n",
    "import requests\n",
    "import re\n",
    "import xarray as xr\n",
    "import pickle\n",
    "import seaborn as sns\n"
   ]
  },
  {
   "cell_type": "code",
   "execution_count": 20,
   "metadata": {
    "collapsed": false
   },
   "outputs": [],
   "source": [
    "#Load data\n",
    "directory = '../data/hot_rosette'\n",
    "filename = directory+'/'+'HOT_N.csv'\n",
    "\n",
    "ross_data = pd.read_csv(filename)"
   ]
  },
  {
   "cell_type": "code",
   "execution_count": 26,
   "metadata": {
    "collapsed": false
   },
   "outputs": [
    {
     "data": {
      "text/html": [
       "<div>\n",
       "<style scoped>\n",
       "    .dataframe tbody tr th:only-of-type {\n",
       "        vertical-align: middle;\n",
       "    }\n",
       "\n",
       "    .dataframe tbody tr th {\n",
       "        vertical-align: top;\n",
       "    }\n",
       "\n",
       "    .dataframe thead th {\n",
       "        text-align: right;\n",
       "    }\n",
       "</style>\n",
       "<table border=\"1\" class=\"dataframe\">\n",
       "  <thead>\n",
       "    <tr style=\"text-align: right;\">\n",
       "      <th></th>\n",
       "      <th>TIME</th>\n",
       "      <th>DATE</th>\n",
       "      <th>LATITUDE</th>\n",
       "      <th>LONGITUDE</th>\n",
       "      <th>CTDPRS</th>\n",
       "      <th>CTDTMP</th>\n",
       "      <th>CTDSAL</th>\n",
       "      <th>OXYGEN</th>\n",
       "      <th>SILCAT</th>\n",
       "      <th>PHSPHT</th>\n",
       "      <th>NO2_NO3</th>\n",
       "    </tr>\n",
       "  </thead>\n",
       "  <tbody>\n",
       "    <tr>\n",
       "      <th>1</th>\n",
       "      <td>10:21</td>\n",
       "      <td>09/02/2007</td>\n",
       "      <td>48.57583</td>\n",
       "      <td>-125.49966</td>\n",
       "      <td>6.0</td>\n",
       "      <td>8.4299</td>\n",
       "      <td>31.9715</td>\n",
       "      <td>281.6</td>\n",
       "      <td>24.7</td>\n",
       "      <td>1.46</td>\n",
       "      <td>16.8</td>\n",
       "    </tr>\n",
       "    <tr>\n",
       "      <th>2</th>\n",
       "      <td>12:45</td>\n",
       "      <td>09/02/2007</td>\n",
       "      <td>48.60050</td>\n",
       "      <td>-126.00050</td>\n",
       "      <td>5.8</td>\n",
       "      <td>8.2880</td>\n",
       "      <td>31.8478</td>\n",
       "      <td>280.4</td>\n",
       "      <td>28.6</td>\n",
       "      <td>1.49</td>\n",
       "      <td>17.3</td>\n",
       "    </tr>\n",
       "    <tr>\n",
       "      <th>3</th>\n",
       "      <td>14:56</td>\n",
       "      <td>09/02/2007</td>\n",
       "      <td>48.62533</td>\n",
       "      <td>-126.33334</td>\n",
       "      <td>4.6</td>\n",
       "      <td>8.3349</td>\n",
       "      <td>31.5109</td>\n",
       "      <td>287.0</td>\n",
       "      <td>26.6</td>\n",
       "      <td>1.36</td>\n",
       "      <td>15.6</td>\n",
       "    </tr>\n",
       "    <tr>\n",
       "      <th>4</th>\n",
       "      <td>16:48</td>\n",
       "      <td>09/02/2007</td>\n",
       "      <td>48.65033</td>\n",
       "      <td>-126.66700</td>\n",
       "      <td>5.2</td>\n",
       "      <td>8.7896</td>\n",
       "      <td>32.3942</td>\n",
       "      <td>286.5</td>\n",
       "      <td>15.5</td>\n",
       "      <td>1.10</td>\n",
       "      <td>11.2</td>\n",
       "    </tr>\n",
       "    <tr>\n",
       "      <th>6</th>\n",
       "      <td>18:48</td>\n",
       "      <td>09/02/2007</td>\n",
       "      <td>48.65000</td>\n",
       "      <td>-126.66650</td>\n",
       "      <td>7.7</td>\n",
       "      <td>8.7917</td>\n",
       "      <td>32.4082</td>\n",
       "      <td>288.6</td>\n",
       "      <td>15.1</td>\n",
       "      <td>1.10</td>\n",
       "      <td>11.4</td>\n",
       "    </tr>\n",
       "    <tr>\n",
       "      <th>8</th>\n",
       "      <td>23:00</td>\n",
       "      <td>09/02/2007</td>\n",
       "      <td>48.69100</td>\n",
       "      <td>-127.16534</td>\n",
       "      <td>4.9</td>\n",
       "      <td>8.4059</td>\n",
       "      <td>32.4182</td>\n",
       "      <td>290.8</td>\n",
       "      <td>9.8</td>\n",
       "      <td>1.00</td>\n",
       "      <td>8.6</td>\n",
       "    </tr>\n",
       "    <tr>\n",
       "      <th>9</th>\n",
       "      <td>02:35</td>\n",
       "      <td>10/02/2007</td>\n",
       "      <td>48.74367</td>\n",
       "      <td>-127.66666</td>\n",
       "      <td>7.2</td>\n",
       "      <td>8.3560</td>\n",
       "      <td>32.4127</td>\n",
       "      <td>291.6</td>\n",
       "      <td>8.5</td>\n",
       "      <td>0.95</td>\n",
       "      <td>8.0</td>\n",
       "    </tr>\n",
       "    <tr>\n",
       "      <th>10</th>\n",
       "      <td>06:24</td>\n",
       "      <td>10/02/2007</td>\n",
       "      <td>48.77717</td>\n",
       "      <td>-128.17084</td>\n",
       "      <td>2.3</td>\n",
       "      <td>8.2108</td>\n",
       "      <td>32.4009</td>\n",
       "      <td>293.0</td>\n",
       "      <td>10.3</td>\n",
       "      <td>1.04</td>\n",
       "      <td>9.5</td>\n",
       "    </tr>\n",
       "    <tr>\n",
       "      <th>11</th>\n",
       "      <td>10:12</td>\n",
       "      <td>10/02/2007</td>\n",
       "      <td>48.81650</td>\n",
       "      <td>-128.66684</td>\n",
       "      <td>3.4</td>\n",
       "      <td>8.1030</td>\n",
       "      <td>32.4147</td>\n",
       "      <td>295.3</td>\n",
       "      <td>7.7</td>\n",
       "      <td>0.94</td>\n",
       "      <td>7.9</td>\n",
       "    </tr>\n",
       "    <tr>\n",
       "      <th>12</th>\n",
       "      <td>13:45</td>\n",
       "      <td>10/02/2007</td>\n",
       "      <td>48.85667</td>\n",
       "      <td>-129.16617</td>\n",
       "      <td>5.2</td>\n",
       "      <td>7.9226</td>\n",
       "      <td>32.4237</td>\n",
       "      <td>292.6</td>\n",
       "      <td>7.4</td>\n",
       "      <td>0.97</td>\n",
       "      <td>8.3</td>\n",
       "    </tr>\n",
       "  </tbody>\n",
       "</table>\n",
       "</div>"
      ],
      "text/plain": [
       "      TIME        DATE  LATITUDE  LONGITUDE  CTDPRS  CTDTMP   CTDSAL  OXYGEN  \\\n",
       "1    10:21  09/02/2007  48.57583 -125.49966     6.0  8.4299  31.9715   281.6   \n",
       "2    12:45  09/02/2007  48.60050 -126.00050     5.8  8.2880  31.8478   280.4   \n",
       "3    14:56  09/02/2007  48.62533 -126.33334     4.6  8.3349  31.5109   287.0   \n",
       "4    16:48  09/02/2007  48.65033 -126.66700     5.2  8.7896  32.3942   286.5   \n",
       "6    18:48  09/02/2007  48.65000 -126.66650     7.7  8.7917  32.4082   288.6   \n",
       "8    23:00  09/02/2007  48.69100 -127.16534     4.9  8.4059  32.4182   290.8   \n",
       "9    02:35  10/02/2007  48.74367 -127.66666     7.2  8.3560  32.4127   291.6   \n",
       "10   06:24  10/02/2007  48.77717 -128.17084     2.3  8.2108  32.4009   293.0   \n",
       "11   10:12  10/02/2007  48.81650 -128.66684     3.4  8.1030  32.4147   295.3   \n",
       "12   13:45  10/02/2007  48.85667 -129.16617     5.2  7.9226  32.4237   292.6   \n",
       "\n",
       "    SILCAT  PHSPHT  NO2_NO3  \n",
       "1     24.7    1.46     16.8  \n",
       "2     28.6    1.49     17.3  \n",
       "3     26.6    1.36     15.6  \n",
       "4     15.5    1.10     11.2  \n",
       "6     15.1    1.10     11.4  \n",
       "8      9.8    1.00      8.6  \n",
       "9      8.5    0.95      8.0  \n",
       "10    10.3    1.04      9.5  \n",
       "11     7.7    0.94      7.9  \n",
       "12     7.4    0.97      8.3  "
      ]
     },
     "execution_count": 26,
     "metadata": {},
     "output_type": "execute_result"
    }
   ],
   "source": [
    "#Load data\n",
    "directory = '../data/line_p_data'\n",
    "filename = directory+'/'+'line_p_fullfinite.csv'\n",
    "\n",
    "linep_data = pd.read_csv(filename)\n",
    "linep_data.head(10)"
   ]
  },
  {
   "cell_type": "code",
   "execution_count": 27,
   "metadata": {
    "collapsed": false
   },
   "outputs": [],
   "source": [
    "oxygen = ross_data['OXYGEN']\n",
    "silcat = ross_data['SILCAT']\n",
    "nitros = ross_data['NO2+NO3']\n",
    "phosph = ross_data['PHSPHT']\n",
    "multioutput = ross_data[['OXYGEN','SILCAT','NO2+NO3','PHSPHT']]\n",
    "\n",
    "#parameters = ross_data[['DATE','TIME','LATITUDE','LONGITUDE','CTDPRS','CTDTMP','CTDSAL']]\n",
    "\n",
    "parameters = ross_data[['LATITUDE','LONGITUDE','CTDPRS','CTDTMP','CTDSAL']]\n",
    "\n",
    "\n",
    "tr_X = parameters\n",
    "tr_y = multioutput\n",
    "\n",
    "#pr_X = linep_data[['DATE','TIME','LATITUDE','LONGITUDE','CTDPRS','CTDTMP','CTDSAL']]\n",
    "pr_X = linep_data[['LATITUDE','LONGITUDE','CTDPRS','CTDTMP','CTDSAL']]\n",
    "\n",
    "pr_y = linep_data[['OXYGEN','SILCAT','NO2_NO3','PHSPHT']]"
   ]
  },
  {
   "cell_type": "code",
   "execution_count": 28,
   "metadata": {
    "collapsed": false
   },
   "outputs": [
    {
     "data": {
      "text/plain": [
       "MultiOutputRegressor(estimator=RandomForestRegressor(bootstrap=True, criterion='mse', max_depth=None,\n",
       "           max_features='auto', max_leaf_nodes=None,\n",
       "           min_impurity_split=1e-07, min_samples_leaf=1,\n",
       "           min_samples_split=2, min_weight_fraction_leaf=0.0,\n",
       "           n_estimators=200, n_jobs=-1, oob_score=False, random_state=None,\n",
       "           verbose=0, warm_start=False),\n",
       "           n_jobs=1)"
      ]
     },
     "execution_count": 28,
     "metadata": {},
     "output_type": "execute_result"
    }
   ],
   "source": [
    "multirf = MultiOutputRegressor(RandomForestRegressor(n_jobs=-1,n_estimators=200,criterion='mse'))\n",
    "\n",
    "multirf.fit(parameters,multioutput)"
   ]
  },
  {
   "cell_type": "code",
   "execution_count": 29,
   "metadata": {
    "collapsed": false
   },
   "outputs": [
    {
     "name": "stdout",
     "output_type": "stream",
     "text": [
      "('RF Score:', -5.4388474247457079)\n",
      "('Variance Score:', array([-8.48965067,  0.04085011,  0.76902049,  0.80838863]))\n",
      "('Mean Abs Error:', array([  4.35611173e+02,   4.12700520e+01,   7.02873984e+00,\n",
      "         3.90143069e-01]))\n",
      "('Mean Squared Error:', array([  3.11993290e+05,   5.28651754e+03,   7.51349340e+01,\n",
      "         2.18069775e-01]))\n",
      "('R^2 Error:', array([-23.13466953,  -0.16476019,   0.74119977,   0.80284024]))\n"
     ]
    }
   ],
   "source": [
    "#Predict set:\n",
    "predicted_multi = multirf.predict(pr_X)    \n",
    "\n",
    "score_multi = multirf.score(pr_X, pr_y)\n",
    "print('RF Score:', score_multi)\n",
    "\n",
    "#Explained variance score:\n",
    "var_multi = explained_variance_score(pr_y, predicted_multi, multioutput='raw_values')\n",
    "#var_multi = explained_variance_score(pr_y, predicted_multi)\n",
    "\n",
    "print('Variance Score:', var_multi)\n",
    "\n",
    "\n",
    "#Mean Absolute Error:\n",
    "mabs_multi = mean_absolute_error(pr_y, predicted_multi,  multioutput='raw_values')\n",
    "#mabs_multi = mean_absolute_error(pr_y, predicted_multi)\n",
    "print('Mean Abs Error:', mabs_multi)\n",
    "\n",
    "#Mean Squared Error:\n",
    "msq_multi = mean_squared_error(pr_y, predicted_multi, multioutput='raw_values')\n",
    "print('Mean Squared Error:', msq_multi)\n",
    "\n",
    "#R^2 score:\n",
    "r2_multi = r2_score(pr_y, predicted_multi, multioutput='raw_values')\n",
    "print('R^2 Error:', r2_multi)"
   ]
  },
  {
   "cell_type": "code",
   "execution_count": 7,
   "metadata": {
    "collapsed": true
   },
   "outputs": [
    {
     "ename": "AttributeError",
     "evalue": "'numpy.ndarray' object has no attribute 'values'",
     "output_type": "error",
     "traceback": [
      "\u001b[0;31m\u001b[0m",
      "\u001b[0;31mAttributeError\u001b[0mTraceback (most recent call last)",
      "\u001b[0;32m<ipython-input-7-e23fd20de621>\u001b[0m in \u001b[0;36m<module>\u001b[0;34m()\u001b[0m\n\u001b[1;32m      4\u001b[0m \u001b[0mpredicted_values\u001b[0m \u001b[1;33m=\u001b[0m \u001b[0mnp\u001b[0m\u001b[1;33m.\u001b[0m\u001b[0marray\u001b[0m\u001b[1;33m(\u001b[0m\u001b[0mpredicted_multi\u001b[0m\u001b[1;33m)\u001b[0m\u001b[1;33m\u001b[0m\u001b[0m\n\u001b[1;32m      5\u001b[0m \u001b[1;33m\u001b[0m\u001b[0m\n\u001b[0;32m----> 6\u001b[0;31m \u001b[0msplot\u001b[0m \u001b[1;33m=\u001b[0m \u001b[0msns\u001b[0m\u001b[1;33m.\u001b[0m\u001b[0mrelplot\u001b[0m\u001b[1;33m(\u001b[0m\u001b[0mdata\u001b[0m\u001b[1;33m=\u001b[0m\u001b[0mtrue_values\u001b[0m\u001b[1;33m)\u001b[0m\u001b[1;33m;\u001b[0m\u001b[1;33m\u001b[0m\u001b[0m\n\u001b[0m\u001b[1;32m      7\u001b[0m \u001b[0mplt\u001b[0m\u001b[1;33m.\u001b[0m\u001b[0mshow\u001b[0m\u001b[1;33m(\u001b[0m\u001b[1;33m)\u001b[0m\u001b[1;33m\u001b[0m\u001b[0m\n\u001b[1;32m      8\u001b[0m \u001b[1;31m#splot.savefig('HOT_N_SVR_CV.png')\u001b[0m\u001b[1;33m\u001b[0m\u001b[1;33m\u001b[0m\u001b[0m\n",
      "\u001b[0;32mC:\\Users\\valera\\Anaconda2\\lib\\site-packages\\seaborn\\relational.pyc\u001b[0m in \u001b[0;36mrelplot\u001b[0;34m(x, y, hue, size, style, data, row, col, col_wrap, row_order, col_order, palette, hue_order, hue_norm, sizes, size_order, size_norm, markers, dashes, style_order, legend, kind, height, aspect, facet_kws, **kwargs)\u001b[0m\n\u001b[1;32m   1611\u001b[0m     g.map_dataframe(func, x, y,\n\u001b[1;32m   1612\u001b[0m                     \u001b[0mhue\u001b[0m\u001b[1;33m=\u001b[0m\u001b[0mhue\u001b[0m\u001b[1;33m,\u001b[0m \u001b[0msize\u001b[0m\u001b[1;33m=\u001b[0m\u001b[0msize\u001b[0m\u001b[1;33m,\u001b[0m \u001b[0mstyle\u001b[0m\u001b[1;33m=\u001b[0m\u001b[0mstyle\u001b[0m\u001b[1;33m,\u001b[0m\u001b[1;33m\u001b[0m\u001b[0m\n\u001b[0;32m-> 1613\u001b[0;31m                     **plot_kws)\n\u001b[0m\u001b[1;32m   1614\u001b[0m \u001b[1;33m\u001b[0m\u001b[0m\n\u001b[1;32m   1615\u001b[0m     \u001b[1;31m# Show the legend\u001b[0m\u001b[1;33m\u001b[0m\u001b[1;33m\u001b[0m\u001b[0m\n",
      "\u001b[0;32mC:\\Users\\valera\\Anaconda2\\lib\\site-packages\\seaborn\\axisgrid.pyc\u001b[0m in \u001b[0;36mmap_dataframe\u001b[0;34m(self, func, *args, **kwargs)\u001b[0m\n\u001b[1;32m    795\u001b[0m \u001b[1;33m\u001b[0m\u001b[0m\n\u001b[1;32m    796\u001b[0m             \u001b[1;31m# If this subset is null, move on\u001b[0m\u001b[1;33m\u001b[0m\u001b[1;33m\u001b[0m\u001b[0m\n\u001b[0;32m--> 797\u001b[0;31m             \u001b[1;32mif\u001b[0m \u001b[1;32mnot\u001b[0m \u001b[0mdata_ijk\u001b[0m\u001b[1;33m.\u001b[0m\u001b[0mvalues\u001b[0m\u001b[1;33m.\u001b[0m\u001b[0msize\u001b[0m\u001b[1;33m:\u001b[0m\u001b[1;33m\u001b[0m\u001b[0m\n\u001b[0m\u001b[1;32m    798\u001b[0m                 \u001b[1;32mcontinue\u001b[0m\u001b[1;33m\u001b[0m\u001b[0m\n\u001b[1;32m    799\u001b[0m \u001b[1;33m\u001b[0m\u001b[0m\n",
      "\u001b[0;31mAttributeError\u001b[0m: 'numpy.ndarray' object has no attribute 'values'"
     ]
    }
   ],
   "source": [
    "# plot observation vs prediction\n",
    "\n",
    "true_values = pr_y.values.astype(float)\n",
    "predicted_values = np.array(predicted_multi)\n",
    "\n",
    "splot = sns.relplot(data=true_values);\n",
    "plt.show()\n",
    "#splot.savefig('HOT_N_SVR_CV.png')"
   ]
  },
  {
   "cell_type": "code",
   "execution_count": 30,
   "metadata": {
    "collapsed": false
   },
   "outputs": [
    {
     "data": {
      "image/png": "[encoded data removed]",
      "text/plain": [
       "<Figure size 432x288 with 1 Axes>"
      ]
     },
     "metadata": {},
     "output_type": "display_data"
    },
    {
     "name": "stdout",
     "output_type": "stream",
     "text": [
      "('RF Score:', -23.963389316890282)\n",
      "('Variance Score:', -9.0000498919676559)\n",
      "('Mean Abs Error:', 440.33319518907552)\n",
      "('Mean Squared Error:', 322706.30260607851)\n",
      "('R^2 Error:', -23.963389316890282)\n"
     ]
    },
    {
     "data": {
      "image/png": "[encoded data removed]",
      "text/plain": [
       "<Figure size 360x360 with 1 Axes>"
      ]
     },
     "metadata": {},
     "output_type": "display_data"
    }
   ],
   "source": [
    "# fit random forest model - Oxygen\n",
    "tr_y = ross_data['OXYGEN']\n",
    "pr_y = linep_data['OXYGEN']\n",
    "model_ox = RandomForestRegressor(n_estimators=200, random_state=42)\n",
    "model_ox.fit(tr_X, tr_y)\n",
    "# show importance scoresces_)\n",
    "# plot importance scor\n",
    "#print(model_ox.feature_importances_)\n",
    "\n",
    "names = parameters.columns.values[0:7]\n",
    "ticks = [i for i in range(len(names))]\n",
    "plt.bar(ticks, model_ox.feature_importances_)\n",
    "plt.title('Oxygen regression importance')\n",
    "plt.xticks(ticks, names,rotation='vertical')\n",
    "plt.show()\n",
    "\n",
    "predicted_ox = model_ox.predict(pr_X)  \n",
    "\n",
    "score_ox = model_ox.score(pr_X, pr_y)\n",
    "print('RF Score:', score_ox)\n",
    "\n",
    "#Explained variance score:\n",
    "var_ox = explained_variance_score(pr_y, predicted_ox)\n",
    "#var_multi = explained_variance_score(pr_y, predicted_multi)\n",
    "\n",
    "print('Variance Score:', var_ox)\n",
    "\n",
    "#Mean Absolute Error:\n",
    "mabs_ox = mean_absolute_error(pr_y, predicted_ox)\n",
    "#mabs_multi = mean_absolute_error(pr_y, predicted_multi)\n",
    "print('Mean Abs Error:', mabs_ox)\n",
    "\n",
    "#Mean Squared Error:\n",
    "msq_ox = mean_squared_error(pr_y, predicted_ox)\n",
    "print('Mean Squared Error:', msq_ox)\n",
    "\n",
    "#R^2 score:\n",
    "r2_ox = r2_score(pr_y, predicted_ox)\n",
    "print('R^2 Error:', r2_ox)\n",
    "\n",
    "# plot observation vs prediction\n",
    "dict_result = {'observation': pr_y.values.astype(float).flatten(), 'prediction': np.array(predicted_ox)}\n",
    "df_result = pd.DataFrame(dict_result)\n",
    "splot = sns.relplot(x=\"observation\", y=\"prediction\", data=df_result);\n",
    "axes = splot.axes.flatten()\n",
    "axes[0].set_title('Oxygen prediction relational')\n",
    "plt.show()\n",
    "#splot.savefig('HOT_N_SVR_1.png')"
   ]
  },
  {
   "cell_type": "code",
   "execution_count": 38,
   "metadata": {
    "collapsed": false
   },
   "outputs": [
    {
     "name": "stdout",
     "output_type": "stream",
     "text": [
      "('RFR 10-fold:', array([-0.08066766, -0.22073919,  0.01385372, -0.64857931, -0.01798377,\n",
      "       -0.12469498, -0.23507231,  0.01883836, -0.02342932, -0.13328762]))\n",
      "RFR 10-fold mean: -0.15 (+/- 0.38)\n"
     ]
    }
   ],
   "source": [
    "scores_ox = cross_val_score(model_ox, parameters, oxygen,cv=10, scoring='r2')\n",
    "print(\"RFR 10-fold:\", scores_ox)\n",
    "print(\"RFR 10-fold mean: %0.2f (+/- %0.2f)\" % (scores_ox.mean(), scores_ox.std() * 2))"
   ]
  },
  {
   "cell_type": "code",
   "execution_count": 32,
   "metadata": {
    "collapsed": false
   },
   "outputs": [
    {
     "data": {
      "image/png": "[encoded data removed]",
      "text/plain": [
       "<Figure size 432x288 with 1 Axes>"
      ]
     },
     "metadata": {},
     "output_type": "display_data"
    },
    {
     "name": "stdout",
     "output_type": "stream",
     "text": [
      "('RF Score:', 0.74016428454643957)\n",
      "('Variance Score:', 0.76861622946484975)\n",
      "('Mean Abs Error:', 7.0465323575096717)\n",
      "('Mean Squared Error:', 75.435557449088478)\n",
      "('R^2 Error:', 0.74016428454643957)\n"
     ]
    },
    {
     "data": {
      "image/png": "[encoded data removed]",
      "text/plain": [
       "<Figure size 360x360 with 1 Axes>"
      ]
     },
     "metadata": {},
     "output_type": "display_data"
    }
   ],
   "source": [
    "# fit random forest model - Silicates\n",
    "tr_y = ross_data['SILCAT']\n",
    "pr_y = linep_data['SILCAT']\n",
    "model_si = RandomForestRegressor(n_estimators=200, random_state=42)\n",
    "model_si.fit(tr_X, tr_y)\n",
    "# show importance scoresces_)\n",
    "# plot importance scor\n",
    "#print(model_ox.feature_importances_)\n",
    "\n",
    "names = parameters.columns.values[0:7]\n",
    "ticks = [i for i in range(len(names))]\n",
    "plt.bar(ticks, model_si.feature_importances_)\n",
    "plt.title('Silicate regression importance')\n",
    "plt.xticks(ticks, names,rotation='vertical')\n",
    "plt.show()\n",
    "\n",
    "predicted_si = model_si.predict(pr_X)  \n",
    "\n",
    "score_si = model_si.score(pr_X, pr_y)\n",
    "print('RF Score:', score_si)\n",
    "\n",
    "#Explained variance score:\n",
    "var_si = explained_variance_score(pr_y, predicted_si)\n",
    "#var_multi = explained_variance_score(pr_y, predicted_multi)\n",
    "\n",
    "print('Variance Score:', var_si)\n",
    "\n",
    "#Mean Absolute Error:\n",
    "mabs_si = mean_absolute_error(pr_y, predicted_si)\n",
    "#mabs_multi = mean_absolute_error(pr_y, predicted_multi)\n",
    "print('Mean Abs Error:', mabs_si)\n",
    "\n",
    "#Mean Squared Error:\n",
    "msq_si = mean_squared_error(pr_y, predicted_si)\n",
    "print('Mean Squared Error:', msq_si)\n",
    "\n",
    "#R^2 score:\n",
    "r2_si = r2_score(pr_y, predicted_si)\n",
    "print('R^2 Error:', r2_si)\n",
    "\n",
    "# plot observation vs prediction\n",
    "dict_result = {'observation': pr_y.values.astype(float).flatten(), 'prediction': np.array(predicted_si)}\n",
    "df_result = pd.DataFrame(dict_result)\n",
    "splot = sns.relplot(x=\"observation\", y=\"prediction\", data=df_result);\n",
    "plt.show()\n",
    "#splot.savefig('HOT_N_SVR_1.png')"
   ]
  },
  {
   "cell_type": "code",
   "execution_count": 41,
   "metadata": {
    "collapsed": false
   },
   "outputs": [
    {
     "name": "stdout",
     "output_type": "stream",
     "text": [
      "('RFR 10-fold:', array([ 0.57679011,  0.56747396,  0.54928719,  0.51796954,  0.92847045,\n",
      "        0.4887528 ,  0.56755426,  0.75906864,  0.88076354,  0.96988247]))\n",
      "RFR 10-fold : 0.68 (+/- 0.35)\n"
     ]
    }
   ],
   "source": [
    "scores_si = cross_val_score(model_si, parameters, silcat, cv=10,scoring='r2')\n",
    "print(\"RFR 10-fold:\", scores_si)\n",
    "print(\"RFR 10-fold : %0.2f (+/- %0.2f)\" % (scores_si.mean(), scores_si.std() * 2))"
   ]
  },
  {
   "cell_type": "code",
   "execution_count": 41,
   "metadata": {
    "collapsed": false
   },
   "outputs": [
    {
     "name": "stdout",
     "output_type": "stream",
     "text": [
      "('RF Score:', 0.9988143840425654)\n",
      "('Variance Score:', 0.99881460261108956)\n",
      "('Mean Abs Error:', 0.33277034946991751)\n",
      "('Mean Squared Error:', 0.35109227445221497)\n",
      "('R^2 Error:', 0.99881438404256528)\n"
     ]
    }
   ],
   "source": [
    "tr_y = ross_data['NO2+NO3']\n",
    "pr_y = linep_data['NO2_NO3']\n",
    "# fit random forest model - Nitrate\n",
    "tr_X, pr_X, tr_y, pr_y = train_test_split(parameters, nitros, test_size=0.33, random_state=42)\n",
    "model_no = RandomForestRegressor(n_estimators=200, random_state=42)\n",
    "model_no.fit(tr_X, tr_y)\n",
    "# show importance scoresces_)\n",
    "# plot importance scor\n",
    "#print(model_ox.feature_importances_)\n",
    "\n",
    "names = parameters.columns.values[0:7]\n",
    "ticks = [i for i in range(len(names))]\n",
    "plt.figure()\n",
    "plt.bar(ticks, model_no.feature_importances_)\n",
    "plt.title('Nitrate regression importance')\n",
    "plt.xticks(ticks, names,rotation='vertical')\n",
    "#plt.show()\n",
    "plt.savefig('papa_ni_imp.png')\n",
    "\n",
    "predicted_no = model_no.predict(pr_X)  \n",
    "\n",
    "score_no = model_no.score(pr_X, pr_y)\n",
    "print('RF Score:', score_no)\n",
    "\n",
    "#Explained variance score:\n",
    "var_no = explained_variance_score(pr_y, predicted_no)\n",
    "#var_multi = explained_variance_score(pr_y, predicted_multi)\n",
    "\n",
    "print('Variance Score:', var_no)\n",
    "\n",
    "#Mean Absolute Error:\n",
    "mabs_no = mean_absolute_error(pr_y, predicted_no)\n",
    "#mabs_multi = mean_absolute_error(pr_y, predicted_multi)\n",
    "print('Mean Abs Error:', mabs_no)\n",
    "\n",
    "#Mean Squared Error:\n",
    "msq_no = mean_squared_error(pr_y, predicted_no)\n",
    "print('Mean Squared Error:', msq_no)\n",
    "\n",
    "#R^2 score:\n",
    "r2_no = r2_score(pr_y, predicted_no)\n",
    "print('R^2 Error:', r2_no)\n",
    "\n",
    "# plot observation vs prediction\n",
    "dict_result = {'observation': pr_y.values.astype(float).flatten(), 'prediction': np.array(predicted_no)}\n",
    "df_result = pd.DataFrame(dict_result)\n",
    "splot = sns.relplot(x=\"observation\", y=\"prediction\", data=df_result);\n",
    "#plt.show()\n",
    "splot.savefig('papa_corr_ni.png')"
   ]
  },
  {
   "cell_type": "code",
   "execution_count": 39,
   "metadata": {
    "collapsed": false
   },
   "outputs": [
    {
     "name": "stdout",
     "output_type": "stream",
     "text": [
      "('RFR 10-fold:', array([ 0.99920808,  0.99886171,  0.99880806,  0.99916497,  0.9989303 ,\n",
      "        0.99910048,  0.99904458,  0.99893626,  0.9962025 ,  0.9992224 ]))\n",
      "RFR 10-fold : 1.00 (+/- 0.00)\n"
     ]
    }
   ],
   "source": [
    "scores_no = cross_val_score(model_no, parameters, nitros, cv=10,scoring='r2')\n",
    "print(\"RFR 10-fold:\", scores_no)\n",
    "print(\"RFR 10-fold : %0.2f (+/- %0.2f)\" % (scores_no.mean(), scores_no.std() * 2))"
   ]
  },
  {
   "cell_type": "code",
   "execution_count": 42,
   "metadata": {
    "collapsed": false,
    "scrolled": true
   },
   "outputs": [
    {
     "name": "stdout",
     "output_type": "stream",
     "text": [
      "('RF Score:', 0.99649763168414107)\n",
      "('Variance Score:', 0.99649926525650889)\n",
      "('Mean Abs Error:', 0.037578299078206777)\n",
      "('Mean Squared Error:', 0.0050699824974211041)\n",
      "('R^2 Error:', 0.99649763168414107)\n"
     ]
    }
   ],
   "source": [
    "# fit random forest model - Phosphate\n",
    "tr_y = ross_data['PHSPHT']\n",
    "pr_y = linep_data['PHSPHT']\n",
    "tr_X, pr_X, tr_y, pr_y = train_test_split(parameters, phosph, test_size=0.33, random_state=42)\n",
    "model_ph = RandomForestRegressor(n_estimators=200, random_state=42)\n",
    "model_ph.fit(tr_X, tr_y)\n",
    "# show importance scoresces_)\n",
    "# plot importance scor\n",
    "#print(model_ox.feature_importances_)\n",
    "\n",
    "names = parameters.columns.values[0:7]\n",
    "ticks = [i for i in range(len(names))]\n",
    "plt.figure()\n",
    "plt.bar(ticks, model_ph.feature_importances_)\n",
    "plt.title('Phosphate regression importance')\n",
    "plt.xticks(ticks, names,rotation='vertical')\n",
    "#plt.show()\n",
    "plt.savefig('papa_ph_imp.png')\n",
    "\n",
    "predicted_ph = model_ph.predict(pr_X)  \n",
    "\n",
    "score_ph = model_ph.score(pr_X, pr_y)\n",
    "print('RF Score:', score_ph)\n",
    "\n",
    "#Explained variance score:\n",
    "var_ph = explained_variance_score(pr_y, predicted_ph)\n",
    "#var_multi = explained_variance_score(pr_y, predicted_multi)\n",
    "\n",
    "print('Variance Score:', var_ph)\n",
    "\n",
    "#Mean Absolute Error:\n",
    "mabs_ph = mean_absolute_error(pr_y, predicted_ph)\n",
    "#mabs_multi = mean_absolute_error(pr_y, predicted_multi)\n",
    "print('Mean Abs Error:', mabs_ph)\n",
    "\n",
    "#Mean Squared Error:\n",
    "msq_ph = mean_squared_error(pr_y, predicted_ph)\n",
    "print('Mean Squared Error:', msq_ph)\n",
    "\n",
    "#R^2 score:\n",
    "r2_ph = r2_score(pr_y, predicted_ph)\n",
    "print('R^2 Error:', r2_ph)\n",
    "\n",
    "# plot observation vs prediction\n",
    "dict_result = {'observation': pr_y.values.astype(float).flatten(), 'prediction': np.array(predicted_ph)}\n",
    "df_result = pd.DataFrame(dict_result)\n",
    "splot = sns.relplot(x=\"observation\", y=\"prediction\", data=df_result);\n",
    "#plt.show()\n",
    "splot.savefig('papa_ph_corr.png')"
   ]
  },
  {
   "cell_type": "code",
   "execution_count": null,
   "metadata": {
    "collapsed": false
   },
   "outputs": [],
   "source": [
    "scores_ph = cross_val_score(model_ph, parameters, phosph, cv=10,scoring='r2')\n",
    "print(\"RFR 10-fold:\", scores_ph)\n",
    "print(\"RFR 10-fold : %0.2f (+/- %0.2f)\" % (scores_ph.mean(), scores_ph.std() * 2))"
   ]
  },
  {
   "cell_type": "code",
   "execution_count": 36,
   "metadata": {
    "collapsed": true
   },
   "outputs": [],
   "source": [
    "predicted_multi = pd.DataFrame(predicted_multi,columns=['OXYGEN','SILCAT','NO2+NO3','PHSPHT'])\n",
    "\n",
    "predicted_multi['Label']='predicted'\n",
    "\n",
    "#predicted_multi['Label']='predicted'\n",
    "\n",
    "validation_set = pr_y.copy(deep=True)\n",
    "validation_set['Label']='real'\n",
    "\n",
    "prediction_pairs = pd.DataFrame()\n",
    "\n",
    "prediction_pairs = pd.concat([predicted_multi,validation_set], ignore_index=True)"
   ]
  },
  {
   "cell_type": "code",
   "execution_count": 37,
   "metadata": {
    "collapsed": false
   },
   "outputs": [
    {
     "data": {
      "text/plain": [
       "'../data/line_p_data'"
      ]
     },
     "execution_count": 37,
     "metadata": {},
     "output_type": "execute_result"
    }
   ],
   "source": [
    "prediction_pairs.to_csv(directory+'/'+'papa_predicted_nutrients.csv',index=False)\n",
    "directory"
   ]
  }
 ],
 "metadata": {
  "kernelspec": {
   "display_name": "Python [Anaconda2]",
   "language": "python",
   "name": "Python [Anaconda2]"
  },
  "language_info": {
   "codemirror_mode": {
    "name": "ipython",
    "version": 2
   },
   "file_extension": ".py",
   "mimetype": "text/x-python",
   "name": "python",
   "nbconvert_exporter": "python",
   "pygments_lexer": "ipython2",
   "version": "2.7.13"
  }
 },
 "nbformat": 4,
 "nbformat_minor": 2
}
