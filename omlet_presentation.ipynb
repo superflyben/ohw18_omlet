{
 "cells": [
  {
   "cell_type": "markdown",
   "metadata": {
    "colab_type": "text",
    "id": "T5bzeXpdPJxJ",
    "slideshow": {
     "slide_type": "slide"
    }
   },
   "source": [
    "\n",
    "<h1><center> \"OMLET\" - Ocean Machine LEarning Toolkit</center></h1>\n",
    "\n",
    "<h2><center>\"OMLET\" Participants</center></h2>\n",
    "\n",
    " \n",
    "<center> Joseph Gum - SIO ODF</center>\n",
    "<center> Manuel Valera - SDSU / CGU</center>\n",
    "<center> Ben Larson - King County</center>\n",
    "<center> Kenneth Jackson - SIO ODF </center>\n",
    "<center> Spencer Sherk  - NYU</center>\n",
    "<center> Drew Snauffer - UBC / Northeastern</center>\n",
    "<center> Xiangming Zeng -  NCSU</center>\n",
    "<center> Candice Hall NDBC</center>\n",
    "<center> Brian Glazer - UH</center>\n",
    "\n",
    "<center> [Github Repo: https://github.com/pyomlet/ohw18_omlet](https://github.com/pyomlet/ohw18_omlet)</center> \n",
    "\n",
    "\n",
    "<img src=\"assets/images/nsf.jpeg\" style=\"width: 200px;\"/>\n",
    "<img src=\"assets/images/ooi.jpg\" style=\"width: 100px;\"/>\n",
    "<img src=\"assets/images/apl_logo_blue.jpg\" style=\"width: 200px;\"/>\n",
    "<img src=\"assets/images/escience.png\" style=\"width: 220px;\"/>\n",
    "<img src=\"assets/images/col.png\" style=\"width: 120px;\"/>\n",
    "<img src=\"assets/images/uwocean.jpg\" style=\"width: 200px;\"/>\n"
   ]
  },
  {
   "cell_type": "markdown",
   "metadata": {
    "colab_type": "text",
    "id": "EyJs3OYtPJxM",
    "slideshow": {
     "slide_type": "slide"
    }
   },
   "source": [
    "## The problem\n",
    "\n",
    "To make an OMLET you need to crack some data. We propose to make machine learning models that have been trained on shipboard data to explore the data around OOI installations. We will be start with the following parameters:\n",
    "* Temperature\n",
    "* Salinity\n",
    "* Pressure\n",
    "* Dissolved Oxygen\n",
    "\n",
    "In order to 'eggs'ecute the hack we will use different toolkits, such as:\n",
    "* Altair\n",
    "* Scikit-Learn\n",
    "* xArray\n",
    "* requests\n",
    "* Pandas\n",
    "\n",
    "## Specific Tasks\n",
    "\n",
    "1. Create a simple format for data to be fed into the model\n",
    "2. Build ML models\n",
    "3. Model validation"
   ]
  },
  {
   "cell_type": "markdown",
   "metadata": {
    "colab_type": "text",
    "id": "o1P_ccR4PJxP"
   },
   "source": [
    "## Methods and Data\n",
    "\n",
    "Machine Learning Tools\n",
    "\n",
    "We take time series data from Station ALOHA (HOT program, 1988-2014) and King County Puget Sound (1994-2017) to create two different machine learning models. The models take in:\n",
    "* Temperature\n",
    "* Salinity\n",
    "* Pressure\n",
    "\n",
    "and predict nutrients, specifically:\n",
    "* Oxygen\n",
    "* Phosphate\n",
    "* Nitrate + Nitrite\n",
    "* Silicate\n",
    "\n",
    "Using these models we feed in data from Line P cruises to predict nutrient data for Station Papa and compare the predicted nutrients to observed nutrients.\n"
   ]
  },
  {
   "cell_type": "markdown",
   "metadata": {
    "colab_type": "text",
    "id": "L7KAtXszPJxR"
   },
   "source": [
    "## Models Used\n",
    "\n",
    "* [Support Vector Regression (SVR)](http://www.saedsayad.com/support_vector_machine_reg.htm)\n",
    "  - Input: temperature, salinity, pressure\n",
    "  - Output: Oxygen, Phosphate, Nitrate+Nitrite, Silicate \n",
    "  - Data records (~14,000), 70% for training, 30% for testing\n",
    "  - Follow the [Scikit-learn instruction](http://scikit-learn.org/stable/tutorial/machine_learning_map/index.html), compare several models (linear regression, Ridge, and SVR) first with default model settings\n",
    "  - Choose the best one for fine-tuning using  [GridSearchCV](http://scikit-learn.org/stable/modules/generated/sklearn.model_selection.GridSearchCV.html) method\n",
    "  \n",
    "  \n",
    "* [Random Forest Regressor (RFR)](http://scikit-learn.org/stable/modules/generated/sklearn.ensemble.RandomForestRegressor.html)\n",
    "  - Input: temperature, salinity, pressure\n",
    "  - Output: Oxygen, Phosphate, Nitrate+Nitrite, Silicate \n",
    "  - Data records (~14,000), 66% for training, 33% for validation\n",
    "  - Feature Importance Asessment\n",
    "  - Cross-Validation using 10 sets, R^2 scoring\n",
    "  - Nutrient forecast in PAPA Station using HOT series\n",
    "  \n",
    "* Artificial Neural Network (ANN)\n",
    "  - Input: CTD temperature, salinity, pressure, oxygen\n",
    "  - Output: Phosphate, Nitrate+Nitrite, Silicate \n",
    "  - Data records (~3500), bootstrapped training set (~66% for training, ~33% for validation)\n",
    "  - Nutrient forecast along Line P using HOT series"
   ]
  },
  {
   "cell_type": "markdown",
   "metadata": {
    "colab_type": "text",
    "id": "uHSnCxlzPJxS"
   },
   "source": [
    "## Results\n",
    "\n",
    "## Support Vector Regression Model\n",
    "\n",
    "### Exploratory analysis of HOT data\n",
    "\n",
    "![Counts_of_variables_HOT](https://github.com/xzenggit/ohw18_omlet/blob/master/Chemical_ocean_variables_prediction/HOT_count.png?raw=true)\n",
    "\n",
    "\n",
    "** Scattermatrix plot of HOT data **\n",
    "\n",
    "![HOT_exploratory_analysis](https://github.com/xzenggit/ohw18_omlet/blob/master/Chemical_ocean_variables_prediction/Exploratory_distribution.png?raw=true  =600x)\n",
    "\n",
    "\n",
    "### Model validation\n",
    "\n",
    "\n",
    "** Nitrate + Nitrite prediction model **   |  ** Oxygen prediciton model **\n",
    ":-------------------------:|:-------------------------:\n",
    "![Nitrate+Nitrite](https://github.com/xzenggit/ohw18_omlet/blob/master/Chemical_ocean_variables_prediction/HOT_N_SVR_CV.png?raw=true)  |  ![Oxygen](https://github.com/xzenggit/ohw18_omlet/blob/master/Chemical_ocean_variables_prediction/HOT_O_SVR_CV.png?raw=true)\n",
    "\n",
    "\n",
    "** Phosphate prediciton model **  |  ** Silicate prediciton model **\n",
    ":-------------------------:|:-------------------------:\n",
    "![P](https://github.com/xzenggit/ohw18_omlet/blob/master/Chemical_ocean_variables_prediction/HOT_P_SVR_CV.png?raw=true) | ![Silicate](https://github.com/xzenggit/ohw18_omlet/blob/master/Chemical_ocean_variables_prediction/HOT_S_SVR_CV.png?raw=true)\n",
    "\n",
    "\n",
    "```\n",
    "\n",
    "```"
   ]
  },
  {
   "cell_type": "markdown",
   "metadata": {},
   "source": [
    "##Random Forest Regression\n",
    "\n",
    "##66/33 HOT series regression:\n",
    "\n",
    "###Oxygen:\n",
    "\n",
    "Cross-Validation = ('RFR 10-fold:'  [-0.05478349,  0.3039111 ,  0.24713282,  0.27927413,  0.38943532,\n",
    "        0.06055401, -0.11648712, -0.05778617,  0.237212  ,  0.14179951]\n",
    "\n",
    "RFR 10-fold mean: 0.14 (+/- 0.33)\n",
    "\n",
    "|Feature Importance | Model Prediction |\n",
    "|:--:|:--:|\n",
    "|![](results/oxigen_imp.png) | ![](https://github.com/manuelvalera/ohw18_omlet/blob/master/results/hot_o.png?raw=true)|\n",
    "\n",
    "###Silicate:\n",
    "\n",
    "('RFR 10-fold:',[ 0.57679011,  0.56747396,  0.54928719,  0.51796954,  0.92847045,\n",
    "        0.4887528 ,  0.56755426,  0.75906864,  0.88076354,  0.96988247]))\n",
    "\n",
    "RFR 10-fold : 0.68 (+/- 0.35)\n",
    "\n",
    "|Feature Importance | Model Prediction |\n",
    "|:--:|:--:|\n",
    "|![](https://github.com/manuelvalera/ohw18_omlet/blob/master/results/sil_imp.png?raw=true) | ![](https://github.com/manuelvalera/ohw18_omlet/blob/master/results/hot_sil.png?raw=true)|\n",
    "\n",
    "###Nitrates:\n",
    "\n",
    "('RFR 10-fold:', array([ 0.99920808,  0.99886171,  0.99880806,  0.99916497,  0.9989303 ,\n",
    "        0.99910048,  0.99904458,  0.99893626,  0.9962025 ,  0.9992224 ]))\n",
    "\n",
    "RFR 10-fold : 1.00 (+/- 0.00)\n",
    "\n",
    "|Feature Importance | Model Prediction |\n",
    "|:--:|:--:|\n",
    "|![](https://github.com/manuelvalera/ohw18_omlet/blob/master/results/imp_ni.png?raw=true) | ![](https://github.com/manuelvalera/ohw18_omlet/blob/master/results/hot_ni.png?raw=true)|\n",
    "\n",
    "###Phosphates:\n",
    "\n",
    "('RFR 10-fold:',[ 0.99476443, 0.99438958,  0.99687975,  0.99751177,  0.99700628,\n",
    "        0.99637504,  0.98354381,  0.9973448 ,  0.99021661,  0.99843229]))\n",
    "\n",
    "RFR 10-fold : 0.99 (+/- 0.01)\n",
    "\n",
    "|Feature Importance | Model Prediction |\n",
    "|:--:|:--:|\n",
    "|![](https://github.com/manuelvalera/ohw18_omlet/blob/master/results/ph_imp.png?raw=true) | ![](https://github.com/manuelvalera/ohw18_omlet/blob/master/results/hot_ph.png?raw=true)|\n",
    "\n",
    "##Predicting PAPA station nutrients from HOT series:\n",
    "\n",
    "###Nitrates:\n",
    "\n",
    "|Feature Importance | Model Prediction |\n",
    "|:--:|:--:|\n",
    "|![](https://github.com/manuelvalera/ohw18_omlet/blob/master/results/papa_ni_imp.png?raw=true) | ![](https://github.com/manuelvalera/ohw18_omlet/blob/master/results/papa_corr_ni.png?raw=true)|\n",
    "\n",
    "('R^2 Error:', 0.99881438404256528)\n",
    "\n",
    "\n",
    "\n",
    "###Phospate:\n",
    "\n",
    "|Feature Importance | Model Prediction |\n",
    "|:--:|:--:|\n",
    "|![](https://github.com/manuelvalera/ohw18_omlet/blob/master/results/papa_ph_imp.png?raw=true) | ![](https://github.com/manuelvalera/ohw18_omlet/blob/master/results/papa_ph_corr.png?raw=true)|\n",
    "\n",
    "('R^2 Error:', 0.99649763168414107)"
   ]
  },
  {
   "cell_type": "markdown",
   "metadata": {
    "colab_type": "text",
    "id": "ZR4QTh6YxEoR"
   },
   "source": [
    "##Performance of ANN trained on HOT timeseries for Line P:\n",
    "\n",
    "![](https://github.com/drewsnauffer/ohw18_omlet/blob/master/Nplot.png?raw=T)\n",
    "\n",
    "R^2:\n",
    "\n",
    "NO2+NO3: 0.96\n",
    "\n",
    "PO4: 0.95\n",
    "\n",
    "Si: 0.85\n",
    "\n"
   ]
  },
  {
   "cell_type": "markdown",
   "metadata": {
    "colab_type": "text",
    "id": "hlbo87ziPJxU"
   },
   "source": [
    "## What went wrong\n",
    "\n",
    "Data discovery turned up multiple sources of data, however not all were processed at the same speed. We also developed an automated program to grab data from OOI Endurance, and Pioneer datasets. At the end of our original data discovery period we had:\n",
    "\n",
    "### Papa\n",
    "1. Ship CTD, discrete samples\n",
    "2. Mooring CTD\n",
    "3. Wire profiler CTD, DO, Chlorophyll\n",
    "\n",
    "### Endurance\n",
    "1. Mooring CTD, DO\n",
    "2. Glider\n",
    "\n",
    "### Pioneer\n",
    "1. Mooring CTD\n",
    "2. Glider\n",
    "\n",
    "We wanted to use shipboard data as \"good data\" to train the models. However, we were unable to process Endurance and Pioneer shipboard data in time. "
   ]
  },
  {
   "cell_type": "markdown",
   "metadata": {
    "colab_type": "text",
    "id": "M7m72yWCb-K1"
   },
   "source": [
    "## Future Work\n",
    "\n",
    "- Explore other regions and data sources to produce robust prediction models\n",
    "  - e.g. Endurance and Pioneer datasets\n",
    "- Collaborative effort to publish results from this work\n"
   ]
  }
 ],
 "metadata": {
  "colab": {
   "name": "omlet_presentation.ipynb",
   "provenance": [],
   "toc_visible": true,
   "version": "0.3.2"
  },
  "kernelspec": {
   "display_name": "Python [conda root]",
   "language": "python",
   "name": "conda-root-py"
  },
  "language_info": {
   "codemirror_mode": {
    "name": "ipython",
    "version": 2
   },
   "file_extension": ".py",
   "mimetype": "text/x-python",
   "name": "python",
   "nbconvert_exporter": "python",
   "pygments_lexer": "ipython2",
   "version": "2.7.12"
  }
 },
 "nbformat": 4,
 "nbformat_minor": 0
}
